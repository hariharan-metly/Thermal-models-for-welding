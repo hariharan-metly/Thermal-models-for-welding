{
 "cells": [
  {
   "cell_type": "markdown",
   "metadata": {},
   "source": [
    "# Eager-Tsai Model\n",
    "\n",
    "$$T=T_i + \\frac{\\eta P}{\\rho c_p \\sqrt{4\\pi^3D}}\\int_0^t \\frac{t''^{-1/2}}{\\sigma^2+2Dt''}\\exp\\left(-\\frac{(x+vt'')^2+y^2}{2\\sigma^2+4Dt''}-\\frac{z^2}{4Dt''}\\right)dt''$$"
   ]
  },
  {
   "cell_type": "code",
   "execution_count": 1,
   "metadata": {},
   "outputs": [],
   "source": [
    "from pyevtk.hl import imageToVTK \n",
    "import scipy.integrate as integrate\n",
    "import numpy as np "
   ]
  },
  {
   "cell_type": "code",
   "execution_count": 2,
   "metadata": {},
   "outputs": [],
   "source": [
    "def integrand(t,X,Y2,Z2,v,D,sigma):\n",
    "    coeff= t**(-1/2)/(sigma**2+(2*D*t))\n",
    "    A=((X+v*t)**2+Y2)/((2*sigma*sigma)+(4*D*t))\n",
    "    B=Z2/(4*D*t)\n",
    "    return coeff*np.exp(-A-B)"
   ]
  },
  {
   "cell_type": "code",
   "execution_count": 4,
   "metadata": {},
   "outputs": [],
   "source": [
    "nx=100\n",
    "ny=80\n",
    "nz=10\n",
    "P=200\n",
    "v=0.8\n",
    "rho=7910\n",
    "k=21.5\n",
    "cp=505\n",
    "Ti=298\n",
    "sigma=13.75e-06\n",
    "D=k/(rho*cp)\n",
    "mult=0.3*P/(rho*cp*2*(D**0.5)*(np.pi**1.5))"
   ]
  },
  {
   "cell_type": "code",
   "execution_count": 10,
   "metadata": {},
   "outputs": [],
   "source": [
    "time_step=1.5e-05\n",
    "final_time=50e-05\n",
    "string=\"ET_model\""
   ]
  },
  {
   "cell_type": "code",
   "execution_count": 6,
   "metadata": {},
   "outputs": [],
   "source": [
    "x=np.linspace(0,100e-5,nx)\n",
    "y=np.linspace(0,80e-5,ny)\n",
    "z=np.linspace(0,1e-4,nz)"
   ]
  },
  {
   "cell_type": "code",
   "execution_count": 7,
   "metadata": {},
   "outputs": [],
   "source": [
    "T=np.ones((nx,ny,nz))"
   ]
  },
  {
   "cell_type": "code",
   "execution_count": 8,
   "metadata": {},
   "outputs": [],
   "source": [
    "x0,y0=10e-5,40e-5"
   ]
  },
  {
   "cell_type": "code",
   "execution_count": 11,
   "metadata": {},
   "outputs": [
    {
     "name": "stdout",
     "output_type": "stream",
     "text": [
      "17962.266946362604 298.0\n",
      "21441.039077414156 298.0\n",
      "22923.671710862385 298.0\n",
      "23521.011747239343 298.0\n",
      "23591.037245320218 298.0\n",
      "23296.040682681225 298.0\n",
      "23666.468076756537 298.0\n",
      "24091.292173867172 298.0\n",
      "24226.523242430394 298.0\n",
      "24089.366537304504 298.0\n",
      "23705.737362975993 298.0\n",
      "23561.939115271867 298.0\n",
      "24045.85047684104 298.0\n",
      "24250.592878573047 298.0\n",
      "24184.728123946596 298.0\n",
      "23868.166399307487 298.0\n",
      "23354.098767634332 298.0\n",
      "23925.155200626104 298.0\n",
      "24217.518534004503 298.0\n",
      "24235.624843429578 298.0\n",
      "23995.804169855983 298.0\n",
      "23524.51634238281 298.0\n",
      "23773.27053913512 298.0\n",
      "24154.625486513465 298.0\n",
      "24258.977686104372 298.0\n",
      "24099.00634459381 298.0\n",
      "23698.170920463035 298.0\n",
      "23592.848240596613 298.0\n",
      "24063.298251721415 298.0\n",
      "24255.239376048903 298.0\n",
      "24177.551113507518 298.0\n",
      "23850.465763960066 298.0\n",
      "23384.321747112364 298.0\n"
     ]
    }
   ],
   "source": [
    "m=0\n",
    "t=time_step\n",
    "while t<=final_time:\n",
    "    filename=string+str(m)\n",
    "    for i in range(nx):\n",
    "        for j in range (ny):\n",
    "            for k in range(nz):\n",
    "                Y2= (y[j]-y0)*(y[j]-y0)\n",
    "                X= x[i]-x0-v*t\n",
    "                Z2=z[k]*z[k]\n",
    "                ans= integrate.quad(integrand,0,t,args=(X,Y2,Z2,v,D,sigma))                \n",
    "                T[i][j][k]= Ti+ mult*(ans[0]-ans[1])\n",
    "    print(np.amax(T), np.amin(T))\n",
    "    imageToVTK(filename, cellData = None, pointData = {\"Temperature\" : T} )\n",
    "    t=t+time_step\n",
    "    m=m+1"
   ]
  },
  {
   "cell_type": "code",
   "execution_count": null,
   "metadata": {},
   "outputs": [],
   "source": []
  }
 ],
 "metadata": {
  "kernelspec": {
   "display_name": "Python 3",
   "language": "python",
   "name": "python3"
  },
  "language_info": {
   "codemirror_mode": {
    "name": "ipython",
    "version": 3
   },
   "file_extension": ".py",
   "mimetype": "text/x-python",
   "name": "python",
   "nbconvert_exporter": "python",
   "pygments_lexer": "ipython3",
   "version": "3.8.5"
  }
 },
 "nbformat": 4,
 "nbformat_minor": 4
}
